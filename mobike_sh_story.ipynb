{
 "cells": [
  {
   "cell_type": "markdown",
   "metadata": {},
   "source": [
    "**初始版本**[链接](https://public.tableau.com/profile/evan5913#!/vizhome/mobike_shanghai_15559070799380/1 )   \n",
    "**最终版本**[链接](https://public.tableau.com/profile/evan5913#!/vizhome/mobike_shanghai_final/sheet14?publish=yes)"
   ]
  },
  {
   "cell_type": "markdown",
   "metadata": {},
   "source": [
    "数据集来源于摩拜单车上海地区2016年8月的骑行数据，样本共计102361条记录。"
   ]
  },
  {
   "cell_type": "markdown",
   "metadata": {},
   "source": [
    "### 总结\n",
    "- 8月骑行人数提升约三倍，总骑行时间与人数呈正相关增长；  \n",
    "- 单车骑行主要在黄浦江西岸的上海市区，西区的骑行位置密度与东岸的浦东新区形成强烈对比；  \n",
    "- 在工作日7-8点，17-19点有骑行数量激增，与工作早晚高峰相合，说明很多人以共享单车为通勤工具；\n",
    "- 从日/小时的骑行数量热力图中，周末没有出现工作日的早晚骑行，而呈现更平缓的分布。"
   ]
  },
  {
   "cell_type": "markdown",
   "metadata": {},
   "source": [
    "### 设计\n",
    "- 故事集共四个仪表盘；\n",
    "- 骑行人数变化图中对工作日和周末用颜色进行标注展示；\n",
    "- 工作日/周末数量对比的饼图；\n",
    "- 增加日/小时骑行数量的热力图。"
   ]
  },
  {
   "cell_type": "markdown",
   "metadata": {},
   "source": [
    "### 反馈\n",
    "朋友甲：  \n",
    "1. 周末/非周末骑行数量并非1/3，而是8月的周末/非周末天数为1/3，因而饼图混淆概念；\n",
    "2. 尽展示了一个仪表盘，而非一个故事集；  \n",
    "\n",
    "朋友乙：  \n",
    "1. 可以在骑行数量中对工作日/周末进行颜色标注，从而更多唯独展现；\n"
   ]
  },
  {
   "cell_type": "markdown",
   "metadata": {},
   "source": [
    "### 资源\n",
    "参考资源：https://public.tableau.com/profile/ting.wang#!/vizhome/MobikeProject/MobikeStory4_0"
   ]
  }
 ],
 "metadata": {
  "kernelspec": {
   "display_name": "Python 3",
   "language": "python",
   "name": "python3"
  },
  "language_info": {
   "codemirror_mode": {
    "name": "ipython",
    "version": 3
   },
   "file_extension": ".py",
   "mimetype": "text/x-python",
   "name": "python",
   "nbconvert_exporter": "python",
   "pygments_lexer": "ipython3",
   "version": "3.6.6"
  }
 },
 "nbformat": 4,
 "nbformat_minor": 2
}
